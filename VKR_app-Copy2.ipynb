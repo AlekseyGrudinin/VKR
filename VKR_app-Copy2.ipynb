{
 "cells": [
  {
   "cell_type": "markdown",
   "id": "179a9deb",
   "metadata": {},
   "source": [
    "# Создаем пользовательское приложение для прогнозирования \"соотношения матрица-наполнитель\""
   ]
  },
  {
   "cell_type": "markdown",
   "id": "4b1c3c0a",
   "metadata": {},
   "source": [
    "Импортируем необходимые библиотеки для нашего приложения"
   ]
  },
  {
   "cell_type": "code",
   "execution_count": 1,
   "id": "38b29c4a",
   "metadata": {},
   "outputs": [],
   "source": [
    "import numpy as np\n",
    "import tensorflow as tf\n",
    "from tensorflow import keras\n",
    "from flask import Flask, request, render_template"
   ]
  },
  {
   "cell_type": "code",
   "execution_count": 2,
   "id": "8c0756f4",
   "metadata": {},
   "outputs": [],
   "source": [
    "app = Flask('__name__')"
   ]
  },
  {
   "cell_type": "markdown",
   "id": "bb2b1959",
   "metadata": {},
   "source": [
    "Загружаем модель и определяем параметры функции  -  будущие входы для модели (всего 12 параметров)"
   ]
  },
  {
   "cell_type": "code",
   "execution_count": 3,
   "id": "0350a030",
   "metadata": {},
   "outputs": [],
   "source": [
    "def set_params(param1, param2, param3, param4, param5, param6, param7, param8, param9, param10, param11, param12):\n",
    "\n",
    "    model = keras.models.load_model(\"C:/Users/aleks/App/s_model/k_m/saved_model.pb\")\n",
    "    prediction = model.predict([param1, param2, param3, param4, param5, param6, param7, param8, param9, param10, param11, param12])\n",
    "\n",
    "    return prediction[0][0]"
   ]
  },
  {
   "cell_type": "code",
   "execution_count": 4,
   "id": "45d63782",
   "metadata": {},
   "outputs": [],
   "source": [
    "@app.route('/', methods=['post', 'get'])\n",
    "\n",
    "def app_calculation():\n",
    "    param_lst = []\n",
    "    message = ''\n",
    "    if request.method == 'POST':\n",
    "        \n",
    "       # получим данные из наших форм и кладем их в список, который затем передадим функции set_params\n",
    "        for i in range(1,13,1):\n",
    "            param = request.form.get(f'param{i}')\n",
    "            param_lst.append(float(param))\n",
    "            \n",
    "        message = set_params(*param_lst)\n",
    "\n",
    "    # указываем шаблон и прототип сайта для вывода    \n",
    "    return render_template(\"C:/App/templates/index.html\", message=message)"
   ]
  },
  {
   "cell_type": "markdown",
   "id": "1d9cde92",
   "metadata": {},
   "source": [
    "Запускаем приложение"
   ]
  },
  {
   "cell_type": "code",
   "execution_count": null,
   "id": "28417f64",
   "metadata": {
    "scrolled": false
   },
   "outputs": [
    {
     "name": "stdout",
     "output_type": "stream",
     "text": [
      " * Serving Flask app '__name__' (lazy loading)\n",
      " * Environment: production\n",
      "\u001b[31m   WARNING: This is a development server. Do not use it in a production deployment.\u001b[0m\n",
      "\u001b[2m   Use a production WSGI server instead.\u001b[0m\n",
      " * Debug mode: off\n"
     ]
    },
    {
     "name": "stderr",
     "output_type": "stream",
     "text": [
      " * Running on http://127.0.0.1:8000 (Press CTRL+C to quit)\n"
     ]
    }
   ],
   "source": [
    "app.run(port=8000)"
   ]
  },
  {
   "cell_type": "code",
   "execution_count": null,
   "id": "76949e73",
   "metadata": {},
   "outputs": [],
   "source": []
  }
 ],
 "metadata": {
  "kernelspec": {
   "display_name": "Python 3 (ipykernel)",
   "language": "python",
   "name": "python3"
  },
  "language_info": {
   "codemirror_mode": {
    "name": "ipython",
    "version": 3
   },
   "file_extension": ".py",
   "mimetype": "text/x-python",
   "name": "python",
   "nbconvert_exporter": "python",
   "pygments_lexer": "ipython3",
   "version": "3.10.1"
  }
 },
 "nbformat": 4,
 "nbformat_minor": 5
}
